{
 "cells": [
  {
   "cell_type": "markdown",
   "metadata": {},
   "source": [
    "What Makes a Poem Poetic?\n",
    "===\n",
    "\n",
    "Welcome! In this tutorial, you will curate a **poetry** corpus, and then analyze the linguistic features of these poems. The learning goal here is to assemble a rich set of natural language processing (NLP) tools to computationally validate linguistic theories around poetry this art form.\n",
    "\n",
    "<img src=\"img/meter.jpg\" />\n",
    "\n",
    "---\n",
    "** Motviation and Overview: **\n",
    "\n",
    "No matter it's haiku, classical Chinese poetry or the sonnet, what makes a poem distinctive from other texts lies in both semantics and the style in which the semantics are expressed. Oxford dictinoary defines poetry as such:\n",
    "\n",
    "> Poetry is a genre of literature <br> in which special intensity is given to the expression of feelings and ideas\n",
    "<br> by the use of distinctive style and rhythm.\n",
    "\n",
    "Poetry evokes emotion from the readers via a concentrated blend of sound and imagery. We want to analyze \"diction\", the poetic words and phrases through which this \"_intensity of expression_\" is achieved. We also want to computationally extract the \"_distinctive structure and rhythm_\" of poetry. In other words, this tutorial includes two subtasks:\n",
    "\n",
    "1. **content** analysis, which is concerned with a poem's semantics and diction; \n",
    "2. **prosodic** analysis, which is concerned with the aesthetic rules that a poem follows, for instance, rhyme.\n",
    "\n",
    "If the jargons here sound distancing, don't worry! You need no poetry study experience to be able to follow this tutorial. Yet I assume that you are already familiar with web scraping and/or have completed the previous NLP-related assignments of the course. "
   ]
  },
  {
   "cell_type": "markdown",
   "metadata": {},
   "source": [
    "Let's get started!"
   ]
  },
  {
   "cell_type": "code",
   "execution_count": 1,
   "metadata": {},
   "outputs": [],
   "source": [
    "# utility packages\n",
    "import numpy as np\n",
    "from scipy import stats\n",
    "import pandas as pd\n",
    "import urllib.request\n",
    "from random import seed, randint\n",
    "from bs4 import BeautifulSoup\n",
    "from collections import defaultdict, Counter\n",
    "from itertools import groupby\n",
    "from prettytable import PrettyTable\n",
    "\n",
    "# nltk\n",
    "from nltk.tokenize import word_tokenize\n",
    "from nltk.corpus import stopwords\n",
    "from nltk.tag import DefaultTagger # POS tagger\n",
    "from nltk.stem.porter import PorterStemmer\n",
    "\n",
    "# poetry analysis\n",
    "import Levenshtein\n",
    "import poetrytools # https://github.com/hyperreality/Poetry-Tools"
   ]
  },
  {
   "cell_type": "markdown",
   "metadata": {},
   "source": [
    "---\n",
    "## 1 - Corpus Curation"
   ]
  },
  {
   "cell_type": "markdown",
   "metadata": {},
   "source": [
    "Before curating our poetry corpus, let's first set up an object data structure to store the poems.\n",
    "Note that you need to preserve line breaks (`<br/>` tags) when scraping the poems because they indicate poem structure. You shall also divide up sentences by the line breaks instead of punctutations."
   ]
  },
  {
   "cell_type": "code",
   "execution_count": 2,
   "metadata": {},
   "outputs": [],
   "source": [
    "class Poem():\n",
    "    def __init__(self, url, name, author, lines, genre):\n",
    "        self.source = url\n",
    "        self.name = name\n",
    "        self.author = author\n",
    "        self.genre = genre\n",
    "        self.lines = lines\n",
    "        self.content = '\\n'.join(lines)\n",
    "        \n",
    "        tokens = word_tokenize(self.content)\n",
    "        self.dict = [w.lower() for w in tokens if w.isalpha()]\n",
    "        \n",
    "    def display(self):\n",
    "        print('\\n-------------------~~~ %s ~~~-------------------\\n'%self.genre)\n",
    "        print(self.name + '\\n' + self.author + '\\n')\n",
    "        print(self.content)\n",
    "        print('-----------------------------------------------------')"
   ]
  },
  {
   "cell_type": "markdown",
   "metadata": {},
   "source": [
    "Now, you will scrape poems by author from [poemhunter.com](https://www.poemhunter.com/) in similar ways as you did with the Yelp reviews in assignment 1.\n",
    "\n",
    "- Implement *collect_poems* function to access a poet's index page and loop over the links on this page to web pages that store each of his/her poems;\n",
    "- Impelment *scrape_a_poem* function to collect the poem on each page;\n"
   ]
  },
  {
   "cell_type": "code",
   "execution_count": 3,
   "metadata": {},
   "outputs": [],
   "source": [
    "def collect_a_poem(poem_url):\n",
    "    \"\"\"\n",
    "    %output poem: a list of str, each str a line in a poem\n",
    "    \"\"\"\n",
    "    # find the <p> tag where the poem text is stored\n",
    "    # use tag.contents rather than tag.text to preserve <br/> tags\n",
    "    lines = []\n",
    "    \n",
    "    soup = BeautifulSoup(urllib.request.urlopen(poem_url), \"html5lib\")\n",
    "    tag = soup.find(\"div\", id = \"solSiirMetinDV\").find(\"div\", class_ = \"KonaBody\").find(\"p\").contents\n",
    "\n",
    "    for prose in tag:\n",
    "        try:\n",
    "            # read poem texts\n",
    "            lines.append(prose.strip(' \\t\\n\\r'))\n",
    "        except:\n",
    "            # ignore tags\n",
    "            pass\n",
    "    return lines\n",
    "\n",
    "def collect_poems(poet_names):\n",
    "    \"\"\"\n",
    "    Create a dictionary of all poems of the poet\n",
    "    %param poet_names (list)\n",
    "    %output poem_list (list of poem objects)\n",
    "    \"\"\"\n",
    "    \n",
    "    poem_list = []\n",
    "    \n",
    "    for poet_name in poet_names:\n",
    "        \n",
    "        # read a poet's index page\n",
    "        poet = poet_name.lower().replace(' ', '-')\n",
    "        poet_url = 'https://www.poemhunter.com/%s/poems/'%poet\n",
    "        soup = BeautifulSoup(urllib.request.urlopen(poet_url), \"html5lib\")\n",
    "        \n",
    "        # check how many pages of poems does this poet has\n",
    "        pages = int(soup.find(\"div\", class_=\"pagination mb-15\").find('ul').find_all(\"li\")[-1].get_text())\n",
    "        \n",
    "        # loop over all pages\n",
    "        for i in range(1, pages + 1):\n",
    "            soup = BeautifulSoup(urllib.request.urlopen(poet_url + 'page-%d/'%i), \"html5lib\")\n",
    "            \n",
    "            # find links to his/her poems on this page\n",
    "            for poemsoup in soup.find(\"table\", class_=\"poems\").tbody.findChildren():\n",
    "                try:\n",
    "                    poem_title = poemsoup.find(\"td\",{\"class\":\"title\"}).find(\"a\")['title']\n",
    "                    poem_url = 'https://www.poemhunter.com/' + poemsoup.find(\"td\",{\"class\":\"title\"}).find(\"a\")['href']\n",
    "                    poem_lines = collect_a_poem(poem_url)\n",
    "                    poem_list.append(Poem(poem_url, poem_title, poet_name, poem_lines,'imagism'))\n",
    "                except:\n",
    "                    pass\n",
    "                \n",
    "    return poem_list"
   ]
  },
  {
   "cell_type": "markdown",
   "metadata": {},
   "source": [
    "Now you can call `load_poems` to collect works of poets of your choice.\n",
    "\n",
    "This tutorial used poems of [Ezra Pound](https://www.poemhunter.com/ezra-pound/poems/), [Amy Lowell](https://www.poemhunter.com/amy-lowell/poems/), [William Carlos Williams](https://en.wikipedia.org/wiki/William_Carlos_Williams) and [James Joyce](https://en.wikipedia.org/wiki/James_Joyce), all are celebrated [Imagist poets](https://en.wikipedia.org/wiki/Imagism). The rest of the tutorial will be based on this corpus, though it is flexible to be used in any other poetry genres and analysis!"
   ]
  },
  {
   "cell_type": "code",
   "execution_count": 4,
   "metadata": {},
   "outputs": [
    {
     "name": "stdout",
     "output_type": "stream",
     "text": [
      "638 imagism poems collected.\n"
     ]
    }
   ],
   "source": [
    "imagist = collect_poems(['Ezra Pound', 'Amy Lowell', 'William Carlos Williams', 'James Joyce'])\n",
    "print('%d imagism poems collected.'%len(imagist))"
   ]
  },
  {
   "cell_type": "code",
   "execution_count": 7,
   "metadata": {},
   "outputs": [],
   "source": [
    "# pickle the corpus in case of future use\n",
    "import pickle\n",
    "pickle.dump(imagist, open('imagist.p','wb'))\n",
    "\n",
    "# uncomment to load the pickled corpus\n",
    "# imagist = pickle.load(open(\"imagist.p\",'rb'))"
   ]
  },
  {
   "cell_type": "code",
   "execution_count": 9,
   "metadata": {},
   "outputs": [
    {
     "name": "stdout",
     "output_type": "stream",
     "text": [
      "\n",
      "-------------------~~~ imagism ~~~-------------------\n",
      "\n",
      "All Day I Hear The Noise Of Waters\n",
      "James Joyce\n",
      "\n",
      "All day I hear the noise of waters\n",
      "Making moan,\n",
      "Sad as the sea-bird is when, going\n",
      "Forth alone,\n",
      "He hears the winds cry to the water's\n",
      "Monotone.\n",
      "The grey winds, the cold winds are blowing\n",
      "Where I go.\n",
      "I hear the noise of many waters\n",
      "Far below.\n",
      "All day, all night, I hear them flowing\n",
      "To and fro.\n",
      "\n",
      "-----------------------------------------------------\n"
     ]
    }
   ],
   "source": [
    "seed(5)\n",
    "\n",
    "# randomly display a classic poem\n",
    "i = randint(0, len(imagist))\n",
    "imagist[i].display() "
   ]
  },
  {
   "cell_type": "markdown",
   "metadata": {},
   "source": [
    "You can also add other publically available poetry corpora into your collection.\n",
    "Here we add in [some Modern and Renaissance poems](https://www.kaggle.com/ultrajack/modern-renaissance-poetry/data). Again, note that you seperate lines by carriage return `\\r\\n` instead of punctuations."
   ]
  },
  {
   "cell_type": "code",
   "execution_count": 10,
   "metadata": {},
   "outputs": [
    {
     "name": "stdout",
     "output_type": "stream",
     "text": [
      "573 classic poems collected.\n"
     ]
    }
   ],
   "source": [
    "classics_df = pd.read_csv('data/poems-from-poetryfoundation-org.csv', encoding = 'utf-8') \n",
    "classics_df['lines'] = classics_df['content'].apply(lambda content: [line for line in content.split('\\r\\n') if line != \"\"])\n",
    "\n",
    "classics = []\n",
    "for index, row in classics_df.iterrows():\n",
    "    classics.append(Poem('poems-from-poetryfoundation-org.csv', row['poem name'], row['author'], row['lines'], 'classics'))\n",
    "\n",
    "print('%d classic poems collected.'%len(classics))"
   ]
  },
  {
   "cell_type": "code",
   "execution_count": 11,
   "metadata": {},
   "outputs": [
    {
     "name": "stdout",
     "output_type": "stream",
     "text": [
      "\n",
      "-------------------~~~ classics ~~~-------------------\n",
      "\n",
      "I Find no Peace\n",
      "SIR THOMAS WYATT\n",
      "\n",
      "I find no peace, and all my war is done.\n",
      "I fear and hope. I burn and freeze like ice.\n",
      "I fly above the wind, yet can I not arise;\n",
      "And nought I have, and all the world I season.\n",
      "That loseth nor locketh holdeth me in prison\n",
      "And holdeth me notyet can I scape no wise\n",
      "Nor letteth me live nor die at my device,\n",
      "And yet of death it giveth me occasion.\n",
      "Without eyen I see, and without tongue I plain.\n",
      "I desire to perish, and yet I ask health.\n",
      "I love another, and thus I hate myself.\n",
      "I feed me in sorrow and laugh in all my pain;\n",
      "Likewise displeaseth me both life and death,\n",
      "And my delight is causer of this strife.\n",
      "-----------------------------------------------------\n"
     ]
    }
   ],
   "source": [
    "# randomly display a classic poem\n",
    "c = randint(0, len(classics))\n",
    "classics[c].display()"
   ]
  },
  {
   "cell_type": "markdown",
   "metadata": {},
   "source": [
    "Congratulations! You have successfully curated a poetry corpus. In the next chapter, we will start to analyze these poems computationally."
   ]
  },
  {
   "cell_type": "markdown",
   "metadata": {},
   "source": [
    "* * *\n",
    "## 2 - Content Analysis"
   ]
  },
  {
   "cell_type": "markdown",
   "metadata": {},
   "source": [
    "Words are to a poet what clay is to the sculptor, a tangible material. Diction, or word choice may reveal interesting characteristics of Imagism.\n",
    "To capture these characteristics computationally, let's first create a dictionary for each corpus.\n",
    "\n",
    "** Note: **\n",
    "\n",
    "We removed the stop words when creating the diction. However we will preserve them in the Poem objects because stopwords often carry important rhythm in poetry. [Some](https://gist.github.com/sebleier/554280) even pointed out that the stopwords themselves are quite poetic-sounding."
   ]
  },
  {
   "cell_type": "code",
   "execution_count": 12,
   "metadata": {},
   "outputs": [],
   "source": [
    "def corpus_dict(lst):\n",
    "    \"\"\"\n",
    "    list all words (including repeatition) contained in a list of Poem objects\n",
    "    :param: poem objects (list)\n",
    "    :output: list of words (list of str)\n",
    "    \"\"\"\n",
    "    list_of_lists = [obj.dict for obj in lst] # list of list\n",
    "    all_words = [word for sublist in list_of_lists for word in sublist]\n",
    "\n",
    "    return [word for word in all_words if word not in set(stopwords.words('english'))]\n",
    "\n",
    "img_diction = corpus_dict(imagist)\n",
    "cls_diction = corpus_dict(classics)"
   ]
  },
  {
   "cell_type": "markdown",
   "metadata": {},
   "source": [
    "Here is a quick overview of the two dictions.\n"
   ]
  },
  {
   "cell_type": "code",
   "execution_count": 13,
   "metadata": {},
   "outputs": [
    {
     "name": "stdout",
     "output_type": "stream",
     "text": [
      "+---------------------------------------+-------------------------+-------------------------+\n",
      "|                                       |         Imagism         |         Classics        |\n",
      "+---------------------------------------+-------------------------+-------------------------+\n",
      "|               # of poems              |           638           |           573           |\n",
      "|        avg # of words per poem        |          121.63         |          93.34          |\n",
      "|          # of distinct words          |          14959          |          11079          |\n",
      "| avg # of distinct words per 100 words |          19.28          |          20.71          |\n",
      "|           most common words           | ['like', 'one', 'upon'] | ['love', 'thy', 'thou'] |\n",
      "+---------------------------------------+-------------------------+-------------------------+\n"
     ]
    }
   ],
   "source": [
    "dict_overview = PrettyTable(['', 'Imagism', 'Classics'])\n",
    "dict_overview.add_row(['# of poems', len(imagist), len(classics)])\n",
    "dict_overview.add_row(['avg # of words per poem',\n",
    "                       round(len(img_diction)/len(imagist),2),\n",
    "                       round(len(cls_diction)/len(classics), 2)])\n",
    "dict_overview.add_row(['# of distinct words', len(set(img_diction)), len(set(cls_diction))])\n",
    "dict_overview.add_row(['avg # of distinct words per 100 words',\n",
    "                       round(len(set(img_diction))/len(img_diction) *100,2),\n",
    "                       round(len(set(cls_diction))/len(cls_diction) *100,2)])\n",
    "dict_overview.add_row(['most common words',\n",
    "                       [tp[0] for tp in Counter(img_diction).most_common(3)],\n",
    "                       [tp[0] for tp in Counter(cls_diction).most_common(3)]])\n",
    "\n",
    "print(dict_overview)"
   ]
  },
  {
   "cell_type": "markdown",
   "metadata": {},
   "source": [
    "### 2.1 -  Diction Analysis\n",
    "\n",
    "#### Vocabulary Richness:  Yule's K\n",
    "\n",
    "We can already see that classic poetry contains a somewhat more diverse diction than imagnist ones, using more dictive words in average. Classic poetry seems also has a somewhat less common vocabulary, given words like \"thy\" and \"thou\" being the most frequently used words.\n",
    "\n",
    "Let's go one step deeper here by breaking it down to two more sophisticated measures of vocabulary richness: Yule’s I characteristic. A statistician called G.U. Yule invented this method of measuring vocabulary richness _Yule’s K_ characteristic as well as its inverse, _Yule’s I_. \n",
    "\n",
    "Yule's K measures the likelyhood of two nouns, chosen at random from the text, being the same. That is, a K value of 300 means that for any pair of nouns chosen at random from the given text, there's a 1 in 300 chance that they will be the same [[2]](#References). Smaller the K is, the richer the vocabulary.\n",
    "\n",
    "Let $N$ be the total number of words in a text, $V(N)$ be the number of distinct words, $V(m, N)$ be the number of words appearing $m$ times in the text, and $m_{max}$ be the largest frequency of a word. Yule’s K is then defined through the first and second moments of the vocabulary population distribution of $V(m, N)$ [[4]](#References):\n",
    "\n",
    "\\begin{equation*}\n",
    "K   = C \\frac{S_2 - S_1}{S_1^2} \\\\ K   = C \\left( - \\frac{1}{N} + \\sum_{k=1}^{m_{max}} V(m, N)\\frac{m}{N}^2 \\right)\n",
    "\\end{equation*}"
   ]
  },
  {
   "cell_type": "code",
   "execution_count": 14,
   "metadata": {},
   "outputs": [],
   "source": [
    "def yuleK(tokens):\n",
    "    \"\"\"\n",
    "    :para: list of tokens (str)\n",
    "    :return: yule's K (float, 2 decimal points)\n",
    "    \"\"\"\n",
    "    token_counter = Counter(tokens)\n",
    "    m1 = sum(token_counter.values())\n",
    "    m2 = sum([freq ** 2 for freq in token_counter.values()])\n",
    "    try:\n",
    "        i = (m1*m1) / (m2-m1)\n",
    "        return round(1/i * 10000,2)\n",
    "    except ZeroDivisionError:\n",
    "        return 0"
   ]
  },
  {
   "cell_type": "markdown",
   "metadata": {},
   "source": [
    "Now let's calculate the K characteristics for our data."
   ]
  },
  {
   "cell_type": "code",
   "execution_count": 15,
   "metadata": {},
   "outputs": [
    {
     "name": "stdout",
     "output_type": "stream",
     "text": [
      "+----------+---------+----------+\n",
      "|          | Imagism | Classics |\n",
      "+----------+---------+----------+\n",
      "| Yule's K |   6.69  |   9.98   |\n",
      "+----------+---------+----------+\n"
     ]
    }
   ],
   "source": [
    "yule_compare = PrettyTable(['', 'Imagism', 'Classics'])\n",
    "yule_compare.add_row(['Yule\\'s K', yuleK(img_diction), yuleK(cls_diction)])\n",
    "print(yule_compare)"
   ]
  },
  {
   "cell_type": "markdown",
   "metadata": {},
   "source": [
    "** Caveat: **\n",
    "\n",
    "Many most-commonly used measures of text complexity/sophistication do _not_ apply to poetry analysis. For example,  Flesch-Kincaid grade level. The intuition of this measure is that a text is more difficult to read if 1) there are more words in a sentence on average, and 2) the words are longer, or have more syllables. It makes #words/#sentences and #syllables/#words important terms in both metrics.\n",
    "\n",
    "$$\\text{Flesch-Kincaid grade level} = (0.39 \\times \\frac{number\\ of\\ words}{number\\ of\\ sentences}) + (11.8 \\times \\frac{number\\ of\\ syllables}{number\\ of\\ words}) - 15.59$$\n",
    "\n",
    "However, as you may easily imagine, poems follow particular rules of \"sentence\" length. To use measures similar to Flesch-Kincaid readability measures, make sure the texts are of equal/similar length."
   ]
  },
  {
   "cell_type": "markdown",
   "metadata": {},
   "source": [
    "### 2.2 - Psycholinguistic Measures\n",
    "\n",
    "Beyond word sophistication and richness, let's look into the linguistic style and psychological effects of poems of different genres.\n",
    "\n",
    "<img src=\"img/def.jpg\" />\n",
    "\n",
    "The first tenet of Imagism poetry is \"concrete imagery\" [[1]](#References). This term revealed two defining characters of imagnism diction: One is \"exactness\" or \"concreteness\" (how “palpable” the\n",
    "object the word refers to); the other is \"imagibility\" (the intensity with which a word arouses images).\n",
    "\n",
    "> \"_It's a graphic description or representation of an object so vividly rendered that its reality seems immediate, whether subjective or objective. It is a vehicle to build a mood or to convey feeling or thought._\"\n",
    "\n",
    "\n",
    "\n",
    "For these psycholinguistic measures, we will use the [MRC Psycholinguistic Database](http://websites.psychology.uwa.edu.au/school/MRCDatabase/uwa_mrc.htm) (Wilson, 1988). "
   ]
  },
  {
   "cell_type": "markdown",
   "metadata": {},
   "source": [
    "** MRC Psycholinguistic Database **\n",
    "\n",
    "We will use a [modern port of the MRC Psycholinguistics Database Machine Usable Dictionary available on Github](https://github.com/samzhang111/mrc-psycholinguistics). To do so, install `sqlalchemy` via anaconda `conda install -c anaconda sqlalchemy`. Clone the repository to current directory by running `pip install gitpython` in Terminal.\n",
    "\n",
    "    > cd your/current/directory\n",
    "    > git clone git@github.com:samzhang111/mrc-psycholinguistics.git\n",
    "    \n",
    "Now you should find a \"mrc-psycholinguistics\" folder in the same directory of this Tutorial file. The MRC dictionary is stored in `mrc2.dct`. The dictionary contains a long list of psycholinguistic measures of 150,837 word entries and we highlight five of them that represent the defining psycholinguistic features of Imagnism poetry:\n",
    "\n",
    "- **conc**: concreteness (i.e., perceptions of how abstract a word is);\n",
    "- **fam**: familiarity (i.e., judgments of how familiar words are to adults);\n",
    "- **img**: imageability (i.e., judgments of how easy it is to imagine a word). The MRC database contains imageability ratings for 4, 954 words (Coltheart, 1981);\n",
    "- **meanc**: meaningfulness Colorado Norms (i.e., judgments of how related a word is to other words).\n",
    "\n",
    "These measures look like this in the MRC2 database:\n",
    "\n",
    "    0500000000000000000000000000000000000000000 N AS   &ARRY|||  \n",
    "    0600000000000000000000000000000000000000000 N AS   &CELLO|||  \n",
    " \n",
    "See the [MRC database documentation](http://websites.psychology.uwa.edu.au/school/MRCDatabase/mrc2.html) for detailed encoding of each feature. Accordingly, now let's parse the relevant features in MCR databse and store them in a dictionary."
   ]
  },
  {
   "cell_type": "code",
   "execution_count": 16,
   "metadata": {},
   "outputs": [
    {
     "name": "stdout",
     "output_type": "stream",
     "text": [
      "Parsed the MRC psycholingstic dictionary of 31519 words\n"
     ]
    }
   ],
   "source": [
    "mrc_dict = {}\n",
    "\n",
    "for a in open('mrc-psycholinguistics/mrc2.dct'):\n",
    "    cols = a.split(' ', 1)\n",
    "    b = list(cols[0])\n",
    "    conc = int(b[28] + b[29] + b[30]) # concreteness rating\n",
    "    imag = int(b[31] + b[32] + b[33]) # imagery rating\n",
    "    fam = int(b[25] + b[26] + b[27]) # familiarity rating\n",
    "    meanc = int(b[34] + b[35] + b[36]) # meaningfulness rating #1\n",
    "    mean2 = int(b[37] + b[38] + b[39]) # meaningfulness rating #2\n",
    "    try:\n",
    "        word, phon, dphon, stress = cols[1][:-1].split(' ')[4].split('|')\n",
    "        mrc_dict[word] = (fam, conc, imag, meanc, stress)\n",
    "    except:\n",
    "        pass\n",
    "\n",
    "print('Parsed the MRC psycholingstic dictionary of %d words'%len(mrc_dict))"
   ]
  },
  {
   "cell_type": "markdown",
   "metadata": {},
   "source": [
    "Create a lookup function to qurey a single word's psycholinguistic features.\n",
    "\n",
    "** Notes: ** \n",
    "\n",
    "- The \"word\" in the MCR database encodes regex. For instance, word $ARRY should respond to all words that end with \"arry\";\n",
    "- The query does _not_ differernciate capitalization. See [here](http://docs.sqlalchemy.org/en/latest/orm/session_basics.html#querying) for detailed instructions to query the dictionary using sqlalchemy sessions.\n",
    "\n",
    "\n"
   ]
  },
  {
   "cell_type": "code",
   "execution_count": 19,
   "metadata": {},
   "outputs": [
    {
     "name": "stdout",
     "output_type": "stream",
     "text": [
      "Example: strawberry\n",
      "Familiarity 539 \n",
      "Concreteness 610 \n",
      "Imageability 631 \n",
      "Meaningfulness 465 \n",
      "Stress Pattern 200\n"
     ]
    }
   ],
   "source": [
    "def query_word_mrc(word, mrc_dict = mrc_dict):\n",
    "    \"\"\"\n",
    "    access the psycholinguistic features of a word from mrc dictionary\n",
    "    :para: a word (str)\n",
    "    :output: the word's concretness, familiarity, imageability, meaningfulness, stress pattern (tuple of int)\n",
    "    \"\"\"\n",
    "    try: \n",
    "        return mrc_dict[word.upper()]\n",
    "    except:\n",
    "        return (0,0,0,0,0)\n",
    "\n",
    "test_word = \"strawberry\"\n",
    "print(\"Example: %s\"%test_word)\n",
    "print('Familiarity %d \\nConcreteness %d \\nImageability %d \\nMeaningfulness %d \\nStress Pattern %s'%query_word_mrc(test_word))"
   ]
  },
  {
   "cell_type": "markdown",
   "metadata": {},
   "source": [
    "#### Concrete Imagery, Abstract Metaphors\n",
    "\n",
    "Look up the psycholinguistic measures of every word in the diction of imagist and classic poems. Let's start with a quick-and-dirty \"bag of words\" comparison between the distribution of these measures. "
   ]
  },
  {
   "cell_type": "code",
   "execution_count": 69,
   "metadata": {},
   "outputs": [],
   "source": [
    "def describe_diction(diction):\n",
    "    \"\"\"\n",
    "    access psycholinguistic features of all words in a diction\n",
    "    \"\"\"\n",
    "    lst = list(map(query_word_mrc, diction)) # list of tuples\n",
    "    \n",
    "    # remove measures of words that are not in the MRC database\n",
    "    lst.remove((0,0,0,0,0))\n",
    "    fam, conc, imag, meanc, stress = map(list, zip(*lst))\n",
    "    \n",
    "    fam.remove(0)\n",
    "    conc.remove(0)\n",
    "    imag.remove(0)\n",
    "    meanc.remove(0)\n",
    "\n",
    "    return (fam, conc, imag, meanc, stress)\n",
    "\n",
    "img_fam, img_conc, img_imag, img_meanc, img_stress = describe_diction(img_diction[:10])\n",
    "cls_fam, cls_conc, cls_imag, cls_meanc, cls_stress = describe_diction(cls_diction[:10])"
   ]
  },
  {
   "cell_type": "markdown",
   "metadata": {},
   "source": [
    "When visualizing these measures, you shall take into consideration its valid range [[5]](http://websites.psychology.uwa.edu.au/school/MRCDatabase/mrc2.html#CONC) and its common distribution in natural human conversations.\n",
    "    > CONC values -- min: 158, max 670, mean 438, s.d. 120;\n",
    "    > MEANC values (meaningfulness) -- min 127; max 667, mean 415; s.d. 78;\n",
    "    > IMAG (imageability) -- min 129; max 669; mean 450, s.d. 108;\n",
    "    > FAM (familiarity) -- max 657, mean 488, s.d. 99."
   ]
  },
  {
   "cell_type": "code",
   "execution_count": 73,
   "metadata": {},
   "outputs": [
    {
     "data": {
      "image/png": "[encoded data removed]",
      "text/plain": [
       "<matplotlib.figure.Figure at 0x1278fbe80>"
      ]
     },
     "metadata": {},
     "output_type": "display_data"
    }
   ],
   "source": [
    "import matplotlib.pyplot as plt\n",
    "import numpy as np\n",
    "\n",
    "img = [img_conc, img_imag, img_meanc, img_fam]\n",
    "cls = [cls_conc, cls_imag, cls_meanc, cls_fam]\n",
    "\n",
    "ticks = ['Concreteness', 'Imageability', 'Meaningfulness', 'Familiarity']\n",
    "\n",
    "def set_box_color(bp, color):\n",
    "    plt.setp(bp['boxes'], color=color)\n",
    "    plt.setp(bp['whiskers'], color=color)\n",
    "    plt.setp(bp['caps'], color=color)\n",
    "    plt.setp(bp['medians'], color=color)\n",
    "\n",
    "plt.figure()\n",
    "\n",
    "bpl = plt.boxplot(img, positions=np.array(range(len(img)))*2.0-0.4, sym='', widths=0.6)\n",
    "bpr = plt.boxplot(cls, positions=np.array(range(len(cls)))*2.0+0.4, sym='', widths=0.6)\n",
    "set_box_color(bpl, '#D7191C') # colors are from http://colorbrewer2.org/\n",
    "set_box_color(bpr, '#2C7BB6')\n",
    "\n",
    "# draw temporary red and blue lines and use them to create a legend\n",
    "plt.plot([], c='#D7191C', label='Imagism Poems')\n",
    "plt.plot([], c='#2C7BB6', label='Classic Poems')\n",
    "plt.plot([], c ='#636363', label='Natural Language Average')\n",
    "plt.legend(bbox_to_anchor=(1.05, 1), loc=2, borderaxespad=0.)\n",
    "\n",
    "# draw horizontal lines\n",
    "plt.axhline(y=300,xmin=0.1,xmax=0.3,c ='#636363',zorder=0) #conc\n",
    "plt.axhline(y=450,xmin=0.3,xmax=0.5,c ='#636363',zorder=0) #imag\n",
    "plt.axhline(y=415,xmin=0.5,xmax=0.7,c ='#636363',zorder=0) #meanc\n",
    "plt.axhline(y=488,xmin=0.7,xmax=0.9,c ='#636363',zorder=0) #fam\n",
    "\n",
    "plt.xticks(range(0, len(ticks) * 2, 2), ticks)\n",
    "plt.xlim(-2, len(ticks)*2)\n",
    "plt.tight_layout()\n",
    "plt.savefig('img/psycholinguistic-comparison.png')"
   ]
  },
  {
   "cell_type": "markdown",
   "metadata": {},
   "source": [
    "As the visualization vividly shows, poets utilizes a vocabulary that's visibly more concrete and familiar-feeling than day-to-day English language. However, their word, though common, choices deliver imagery loaded with meaning. This fits perfectly with how literature theory defines poetry [[6]](http://webs.anokaramsey.edu/stankey/Literat/Poetry/Imagism.htm):\n",
    "> Use the language of common speech but to employ always the exact word, not the nearly-exact."
   ]
  },
  {
   "cell_type": "markdown",
   "metadata": {},
   "source": [
    "---\n",
    "## 3 - Prosodic Analysis: The Musicality of Poetry"
   ]
  },
  {
   "cell_type": "markdown",
   "metadata": {},
   "source": [
    "Poets convey and reinforce the meaning or experience of poetry through the skillful use of sound. , a poem creates an emotional response. All in all, it invites you, the reader, to sense a particular thing, and the use of _sound devices_ are some of the poet’s tools.\n",
    "\n",
    "#### Rhyme Scheme and Metre\n",
    "\n",
    "Our `wd_psylin` function aobve returns a not-yet-utlized word measure 'stress pattern'. We can use this measure to visualize poetry rhythm. Concretely, vowels are marked for stress:\n",
    "\n",
    "    > Phoneme Example Translation\n",
    "    > ------- ------- -----------\n",
    "    > OW      oat     OW T\n",
    "    > N       knee    N IY\n",
    "\n",
    "Here we take it one step furthuer, using [poetrytools](https://github.com/hyperreality/Poetry-Tools) to perform more sophisticated prosodic analysis. It estimates the rhyme scheme and metre using [The Carnegie Mellon Pronouncing Dictionary in NLTK](http://www.nltk.org/_modules/nltk/corpus/reader/cmudict.html). \n",
    "\n",
    "** Note: ** \n",
    "We preserve all stopwords in prosodic analysis because they are important vehicles for rhyming and meter as well."
   ]
  },
  {
   "cell_type": "code",
   "execution_count": 111,
   "metadata": {},
   "outputs": [
    {
     "name": "stdout",
     "output_type": "stream",
     "text": [
      "Metre: 1111010011 0101011101 1111001101 1011011101 11010001111 1101011011 100111110 1101101101 01010010011 1001010011 000101011 1101011111 11011111010 1111011001\n",
      "Rhyme scheme: ababcdcdbXbXcc\n",
      "Stanza lengths: 14\n",
      "\n",
      "Closest metre: iambic trimeter\n",
      "Closest rhyme: shakespearean sonnet\n",
      "Closest stanza type: sonnet\n",
      "Guessed form: sonnet with unusual meter\n"
     ]
    }
   ],
   "source": [
    "# randomly display a classic poem\n",
    "seed = 60\n",
    "c = randint(0, len(classics))\n",
    "\n",
    "a_poem = poetrytools.tokenize(classics[c].content)\n",
    "a_metre = poetrytools.scanscion(a_poem)\n",
    "print(poetrytools.guess_form(a_poem, verbose=True))"
   ]
  },
  {
   "cell_type": "markdown",
   "metadata": {},
   "source": [
    "Finally, randomly select a poem from the corpora, and annotate its metre just as the header image of this tutorial did. Do the rhythm and rhyming structures modeled by poetrytools reflect your experience?"
   ]
  },
  {
   "cell_type": "code",
   "execution_count": 112,
   "metadata": {},
   "outputs": [
    {
     "name": "stdout",
     "output_type": "stream",
     "text": [
      "Let those who are in favour with their stars \n",
      " 1  -  1  -  1  -  1  -  0  -  10  -  0  -  1  -  1 \n",
      "\n",
      "Of public honour and proud titles boast, \n",
      " 0  -  10  -  10  -  1  -  1  -  10  -  1 \n",
      "\n",
      "Whilst I, whom fortune of such triumph bars, \n",
      " 1  -  1  -  1  -  10  -  0  -  1  -  10  -  1 \n",
      "\n",
      "Unlook'd for joy in that I honour most. \n",
      " 10  -  1  -  1  -  0  -  1  -  1  -  10  -  1 \n",
      "\n",
      "Great princes' favourites their fair leaves spread \n",
      " 1  -  10  -  1000  -  1  -  1  -  1  -  1 \n",
      "\n",
      "But as the marigold at the sun's eye, \n",
      " 1  -  1  -  0  -  101  -  1  -  0  -  1  -  1 \n",
      "\n",
      "And in themselves their pride lies buried, \n",
      " 1  -  0  -  01  -  1  -  1  -  1  -  10 \n",
      "\n",
      "For at a frown they in their glory die. \n",
      " 1  -  1  -  0  -  1  -  1  -  0  -  1  -  10  -  1 \n",
      "\n",
      "The painful warrior famoused for fight, \n",
      " 0  -  10  -  100  -  100  -  1  -  1 \n",
      "\n",
      "After a thousand victories once foil'd, \n",
      " 10  -  0  -  10  -  100  -  1  -  1 \n",
      "\n",
      "Is from the book of honour razed quite, \n",
      " 0  -  0  -  0  -  1  -  0  -  10  -  1  -  1 \n",
      "\n",
      "And all the rest forgot for which he toil'd: \n",
      " 1  -  1  -  0  -  1  -  01  -  1  -  1  -  1  -  1 \n",
      "\n",
      "Then happy I, that love and am beloved \n",
      " 1  -  10  -  1  -  1  -  1  -  1  -  1  -  010 \n",
      "\n",
      "Where I may not remove nor be removed. \n",
      " 1  -  1  -  1  -  1  -  01  -  1  -  0  -  01 \n",
      "\n"
     ]
    }
   ],
   "source": [
    "for line in zip(classics[c].lines, a_metre):\n",
    "    print(line[0], '\\n', '  -  '.join(line[1]), '\\n')"
   ]
  },
  {
   "cell_type": "markdown",
   "metadata": {},
   "source": [
    "## Appendix\n",
    "\n",
    "#### References\n",
    "1. Stillman, F., & Whitfield, J. S. (1965). The poet's manual and rhyming dictionary: Based on The improved rhyming dictionary. Ty Crowell Co.\n",
    "2. cf. Oakes, M.P. 1998. Statistics for Corpus Linguistics. International Journal of Applied Linguistics, Vol 10 Issue 2.\n",
    "3. Slater, E. (1988). The Problem of The Reign of King Edward III: A Statistical Approach. Cambridge University Press.\n",
    "4. Tanaka-Ishii, K., & Aihara, S. (2015). Computational Constancy Measures of Texts—Yule's K and Rényi's Entropy. Computational Linguistics, 41(3), 481-502.\n",
    "5. Tsvetkov, Y., Boytsov, L., Gershman, A., Nyberg, E., & Dyer, C. (2014). Metaphor detection with cross-lingual model transfer. In Proceedings of the 52nd Annual Meeting of the Association for Computational Linguistics (Volume 1: Long Papers) (Vol. 1, pp. 248-258).\n",
    "\n",
    "** Additional Materials: **\n",
    "\n",
    "- Affective Meanings: Arousal, Valence, Dominance\n",
    "\n",
    "A deeper analysis may more accurately extrapolate the affective meanings of words. Prior work in psycholinguistics show that there is a close connection between the emotions felt by humans and the words they read in a text. The following three linguistic characteristics contribute to how the meanings of words affect human psychology, and often referred to as the affective meanings of words. This [computational analysis of poetic style Imagism and its influence on modern professional and amateur poetry paper](https://web.stanford.edu/~jurafsky/pubs/lilt15.pdf) offers a good introduction to analzing these affective qualities of poetry:\n",
    "\n",
    "    - Valence (the pleasantness of the stimulus)\n",
    "    - Arousal (the intensity of emotion provoked by the stimulus)\n",
    "    - Dominance (the degree of control exerted by the stimulus)\n",
    "\n",
    "- Our analysis of imagiability is somewhat naive. With word embeddings and other more sophisticated NLP algorithms, you will be able to explore more symbolic meanings of poetry language. Here are some tools useful to such analysis:\n",
    "    - [Word2vec tutorial](http://nbviewer.jupyter.org/github/danielfrg/word2vec/blob/master/examples/word2vec.ipynb)\n",
    "    - [Pre-trained word embeddings](http://ahogrammer.com/2017/01/20/the-list-of-pretrained-word-embeddings/)\n",
    "    - [WordNet: concept-semantic mapping](https://wordnet.princeton.edu/)\n",
    "\n",
    "- You may find a larger set imagnist poems in [Kao & Jurafsky, 2015](https://web.stanford.edu/~jurafsky/pubs/lilt15.pdf).\n",
    "\n",
    "\n",
    "\n",
    "** Image credit: **\n",
    "\n",
    "- http://journals.openedition.org/ebc/docannexe/image/2797/img-1-small480.jpg\n",
    "- https://jvbirch.com/2016/09/30/national-poetry-day/"
   ]
  }
 ],
 "metadata": {
  "celltoolbar": "Raw Cell Format",
  "kernelspec": {
   "display_name": "Python 3",
   "language": "python",
   "name": "python3"
  },
  "language_info": {
   "codemirror_mode": {
    "name": "ipython",
    "version": 3
   },
   "file_extension": ".py",
   "mimetype": "text/x-python",
   "name": "python",
   "nbconvert_exporter": "python",
   "pygments_lexer": "ipython3",
   "version": "3.5.4"
  }
 },
 "nbformat": 4,
 "nbformat_minor": 2
}
